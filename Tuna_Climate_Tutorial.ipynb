{
  "nbformat": 4,
  "nbformat_minor": 0,
  "metadata": {
    "colab": {
      "provenance": [],
      "mount_file_id": "1HttrLByExfvamgxTtACRp1IpFrAhIyoU",
      "authorship_tag": "ABX9TyOjRgsOhuGK+C+9veUtv7AH",
      "include_colab_link": true
    },
    "kernelspec": {
      "name": "python3",
      "display_name": "Python 3"
    },
    "language_info": {
      "name": "python"
    }
  },
  "cells": [
    {
      "cell_type": "markdown",
      "metadata": {
        "id": "view-in-github",
        "colab_type": "text"
      },
      "source": [
        "<a href=\"https://colab.research.google.com/github/mildredymorales/conbio/blob/main/Tuna_Climate_Tutorial.ipynb\" target=\"_parent\"><img src=\"https://colab.research.google.com/assets/colab-badge.svg\" alt=\"Open In Colab\"/></a>"
      ]
    },
    {
      "cell_type": "markdown",
      "source": [
        "(A)identify an interesting question you can answer with real-world data\n"
      ],
      "metadata": {
        "id": "q76vTdsiwxyY"
      }
    },
    {
      "cell_type": "markdown",
      "source": [
        "**Question**:\n",
        "How do tuna counts change in response to ocean temperature anomalies?\n",
        "\n",
        "**Why Question**:\n",
        "Understanding the relationship between climate change and marine biodiversity is crucial, specifically for commercially significant species like tuna. Tuna is a key species in the global seafood market, supporting both economic livelihoods and global food security. However, climate change, especially rising ocean temperatures, threatens marine ecosystems.\n",
        "\n",
        "**Why analyses**:\n",
        "great to see if there is a correlation between anamolies and observation count to gather a basic sense of if more heat impacts the fish.\n",
        "\n",
        "**Tuna Data**:\n",
        "GBIF.org (25 March 2025) GBIF Occurrence Download https://doi.org/10.15468/dl.nvh6ad\n",
        "\n",
        "This dataset provides **geolocated** and **time-stamped** observations of **different tuna species**\n",
        "\n",
        "Ocean Data:\n",
        "NOAA National Centers for Environmental information, Climate at a Glance: Global Time Series, published March 2025, retrieved on March 26, 2025 from https://www.ncei.noaa.gov/access/monitoring/climate-at-a-glance/global/time-series\n",
        "\n",
        "This dataset reports **monthly deviations** from historical average sea surface temperatures (SST).\n",
        "\n",
        "**Why Analysis**\n",
        "By plotting both datasets over time, we visualize how **tuna counts** and **ocean anomalies** **fluctuate** across months and years. This allows us to identify where warming may coincide with significant **changes in tuna populations**."
      ],
      "metadata": {
        "id": "RIrrUZRGw-Kk"
      }
    },
    {
      "cell_type": "markdown",
      "source": [
        "(B) use the text (markdown) and clear code commenting to walk me through your thought process and question motivation\n",
        "- Reading in your data and performing some type of analysis using the skills you are developing in this class.\n",
        "\n",
        "(C) performing one analysis or visualization to answer your question.\n",
        "- Motivating your choice of data and analysis.\n",
        "\n"
      ],
      "metadata": {
        "id": "JUdkf1ejw6gT"
      }
    },
    {
      "cell_type": "markdown",
      "source": [
        "# Tuna & Climate Analysis Tutorial\n",
        "\n",
        "## Setting Up the Environment\n",
        "\n",
        "```markdown\n",
        "import pandas as pd\n",
        "import matplotlib.pyplot as plt\n",
        "```\n",
        "\n",
        "\n",
        "## Data Loading\n",
        "\n",
        "```markdown\n",
        "# Load the tuna dataset\n",
        "tuna_data = pd.read_csv(\"/content/tuna.csv\", sep=\"\\t\")\n",
        "\n",
        "# Check the data\n",
        "# print(tuna_data.head())\n",
        "print(tuna_data.columns)\n",
        "\n",
        "\n",
        "# Load ocean temperature data, skip header/description rows\n",
        "ocean_temp = pd.read_csv(\"/content/data-4.csv\", skiprows=4)\n",
        "\n",
        "# Check the data\n",
        "# print(ocean_temp.head())\n",
        "print(ocean_temp.columns)\n",
        "```\n",
        "## Data Manipulation\n",
        "```markdown\n",
        "# Group by year and month\n",
        "yearly_monthly_counts = tuna_data.groupby(['year', 'month'])['individualCount'].sum().reset_index()\n",
        "\n",
        "print(yearly_monthly_counts.head())\n",
        "print(len(yearly_monthly_counts))\n",
        "\n",
        "# Fix date column to datetime object\n",
        "ocean_temp['Date'] = pd.to_datetime(ocean_temp['Date'].astype(str), format='%Y%m')\n",
        "\n",
        "# Replace missing values\n",
        "ocean_temp.replace(-999, np.nan, inplace=True)\n",
        "\n",
        "# Check for missing values\n",
        "print(ocean_temp.isnull().sum())\n",
        "\n",
        "# Extract year and month\n",
        "ocean_temp['year'] = ocean_temp['Date'].dt.year\n",
        "ocean_temp['month'] = ocean_temp['Date'].dt.month\n",
        "\n",
        "print(ocean_temp.head())\n",
        "\n",
        "# Merge on year and month\n",
        "combined_data = pd.merge(yearly_monthly_counts, ocean_temp, on=['year', 'month'])\n",
        "\n",
        "print(combined_data.head())\n",
        "```\n",
        "## Visualize\n",
        "\n",
        "```markdown\n",
        "# Look at tuna month average data\n",
        "import matplotlib.pyplot as plt\n",
        "\n",
        "# Plot monthly distribution of tuna observations\n",
        "plt.figure(figsize=(10, 6))\n",
        "plt.plot(monthly_counts['month'], monthly_counts['individualCount'], marker='o', linestyle='-')\n",
        "plt.title('Seasonal Patterns in Tuna Observations')\n",
        "plt.xlabel('Month')\n",
        "plt.ylabel('Total Tuna Observed')\n",
        "plt.xticks(range(1, 13), ['Jan', 'Feb', 'Mar', 'Apr', 'May', 'Jun', 'Jul', 'Aug', 'Sep', 'Oct', 'Nov', 'Dec'])\n",
        "plt.grid(True)\n",
        "plt.show()\n",
        "\n",
        "# Overlay tuna and climate data\n",
        "fig, ax1 = plt.subplots(figsize=(12, 8))\n",
        "\n",
        "# Tuna Counts as first axis\n",
        "ax1.set_xlabel('Year-Month')\n",
        "ax1.set_ylabel('Tuna Observed', color='tab:blue')\n",
        "ax1.plot(combined_data['year'] + combined_data['month'] / 12, combined_data['individualCount'], color='tab:blue', marker='o', label='Tuna Count')\n",
        "ax1.tick_params(axis='y', labelcolor='tab:blue')\n",
        "\n",
        "# Ocean Anomalies as second axis\n",
        "ax2 = ax1.twinx()\n",
        "ax2.set_ylabel('Ocean Temperature Anomaly (°C)', color='tab:red')\n",
        "ax2.plot(combined_data['year'] + combined_data['month'] / 12, combined_data['Anomaly'], color='tab:red', linestyle='--', marker='x', label='Ocean Anomaly')\n",
        "ax2.tick_params(axis='y', labelcolor='tab:red')\n",
        "\n",
        "plt.title('Tuna Counts and Ocean Anomalies (2005-2013)')\n",
        "plt.show()\n",
        "\n",
        "```\n"
      ],
      "metadata": {
        "id": "kObhE5ChKRqS"
      }
    },
    {
      "cell_type": "markdown",
      "source": [
        "Future Work:\n",
        "- Get tuna data 2000s to gather a stronger sense of a trend and see different climate trends.\n",
        "\n",
        "Other Code:\n",
        "- Tuna is a diverse group of species, and different species may respond differently to climate change.\n",
        "- Focusing on the seasonality of tuna populations can reveal whether temperature anomalies influence migration patterns or seasonal availability."
      ],
      "metadata": {
        "id": "qNTfJ1-bMgVd"
      }
    }
  ]
}