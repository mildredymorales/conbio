{
  "nbformat": 4,
  "nbformat_minor": 0,
  "metadata": {
    "colab": {
      "provenance": [],
      "mount_file_id": "1HttrLByExfvamgxTtACRp1IpFrAhIyoU",
      "authorship_tag": "ABX9TyM4q12IFYr8CR8A3GdqcHEf",
      "include_colab_link": true
    },
    "kernelspec": {
      "name": "python3",
      "display_name": "Python 3"
    },
    "language_info": {
      "name": "python"
    }
  },
  "cells": [
    {
      "cell_type": "markdown",
      "metadata": {
        "id": "view-in-github",
        "colab_type": "text"
      },
      "source": [
        "<a href=\"https://colab.research.google.com/github/mildredymorales/conbio/blob/main/Copy_of_tutorial.ipynb\" target=\"_parent\"><img src=\"https://colab.research.google.com/assets/colab-badge.svg\" alt=\"Open In Colab\"/></a>"
      ]
    },
    {
      "cell_type": "markdown",
      "source": [
        "(A)identify an interesting question you can answer with real-world data\n"
      ],
      "metadata": {
        "id": "q76vTdsiwxyY"
      }
    },
    {
      "cell_type": "markdown",
      "source": [
        "Question:\n",
        "How does rarity richness vary by geographic region?\n",
        "\n",
        "Why Data:\n",
        "I chose rarity richness since it measures the concentration of rare species in a given region. This is crucial for conservation efforts because preserving rare species helps maintain ecosystem stability and genetic diversity.\n",
        "\n",
        "\n",
        "\n",
        "comments:\n",
        "- i tried to investigate how is habitat fragmentation affecting species richness and distribution in a protected area but my computer kept crashing because the data was too large so i simplified this work and the data i chose."
      ],
      "metadata": {
        "id": "RIrrUZRGw-Kk"
      }
    },
    {
      "cell_type": "markdown",
      "source": [
        "(B) use the text (markdown) and clear code commenting to walk me through your thought process and question motivation\n",
        "- Reading in your data and performing some type of analysis using the skills you are developing in this class.\n",
        "(C) performing one analysis or visualization to answer your question.\n",
        "- Motivating your choice of data and analysis.\n",
        "\n"
      ],
      "metadata": {
        "id": "JUdkf1ejw6gT"
      }
    },
    {
      "cell_type": "markdown",
      "source": [
        "# Spatial Data Analysis Tutorial\n",
        "\n",
        "## Setting Up the Environment\n",
        "\n",
        "```python\n",
        "import pandas as pd\n",
        "import numpy as np\n",
        "import matplotlib.pyplot as plt\n",
        "import seaborn as sns\n",
        "import rasterio\n",
        "from rasterio.plot import show\n",
        "import geopandas as gpd\n",
        "```\n",
        "\n",
        "\n",
        "## Data Loading\n",
        "\n",
        "```python\n",
        "# Load raster data\n",
        "richness_raster = rasterio.open('/content/Combined_RWR_2024.tif')\n",
        "\n",
        "# Display raster metadata\n",
        "print(richness_raster.meta)\n",
        "```\n",
        "\n",
        "## Visualize\n",
        "\n",
        "```python\n",
        "# Mask no-data values\n",
        "nodata_value = richness_raster.nodata\n",
        "richness_array = richness_raster.read(1)\n",
        "\n",
        "# Replace no-data values with NaN\n",
        "richness_array = np.where(richness_array == nodata_value, np.nan, richness_array)\n",
        "\n",
        "import matplotlib.colors as mcolors\n",
        "\n",
        "# Improve visualization with LogNorm to highlight small differences\n",
        "plt.figure(figsize=(12, 8))\n",
        "norm = mcolors.LogNorm(vmin=np.nanmin(richness_array[richness_array > 0]),\n",
        "                       vmax=np.nanmax(richness_array))\n",
        "\n",
        "img = plt.imshow(richness_array, cmap='inferno', norm=norm,\n",
        "                 extent=richness_raster.bounds, origin=\"upper\")\n",
        "\n",
        "plt.title('Species Richness by Geographic Region (Enhanced Visualization)')\n",
        "plt.colorbar(img, label='Species Richness')\n",
        "plt.show()\n",
        "```\n",
        "\n",
        "## Data Summary\n",
        "\n",
        "```python\n",
        "# Basic statistics of the richness\n",
        "print(\"Min species richness (valid data):\", np.nanmin(richness_array))\n",
        "print(\"Max species richness (valid data):\", np.nanmax(richness_array))\n",
        "print(\"Mean species richness (valid data):\", np.nanmean(richness_array))\n",
        "\n",
        "# Generate a histogram of species richness\n",
        "plt.figure(figsize=(8, 6))\n",
        "plt.hist(richness_array.flatten(), bins=50, color='teal', edgecolor='black')\n",
        "plt.title('Distribution of Rarity Richness (Valid Data)')\n",
        "plt.xlabel('Rarity Richness')\n",
        "plt.ylabel('Frequency')\n",
        "plt.show()\n",
        "```\n",
        "\n",
        "## Interpretation and Conclusion\n",
        "\n",
        "From this analysis we can see geographic variation in rarity richness, with clear hotspots in specific regions. By using a logarithmic normalization we enhance the subtle differences. These insights can guide biodiversity protection policies, helping to prioritize regions where rare species are most at risk.\n"
      ],
      "metadata": {
        "id": "kObhE5ChKRqS"
      }
    }
  ]
}
